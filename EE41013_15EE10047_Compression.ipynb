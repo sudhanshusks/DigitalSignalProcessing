{
 "cells": [
  {
   "cell_type": "code",
   "execution_count": 1,
   "metadata": {
    "collapsed": true
   },
   "outputs": [],
   "source": [
    "import numpy as np\n",
    "import matplotlib.pyplot as plt\n",
    "import math\n",
    "np.set_printoptions(suppress=True) #prevent numpy exponential"
   ]
  },
  {
   "cell_type": "markdown",
   "metadata": {},
   "source": [
    "# DFT and IDFT :"
   ]
  },
  {
   "cell_type": "code",
   "execution_count": 2,
   "metadata": {
    "collapsed": true
   },
   "outputs": [],
   "source": [
    "def trans_mat(N):\n",
    "    w=np.ones((N,N), dtype= np.complex64)\n",
    "    wn= np.exp(-1j*2*np.pi/N)\n",
    "    row = []\n",
    "    val=1\n",
    "    for i in range(N):\n",
    "        row.append(val)\n",
    "        val= val*wn\n",
    "    row= np.array(row)\n",
    "    #print(row)\n",
    "    w[1]= row\n",
    "    newRow= row\n",
    "    for i in range(N-2):\n",
    "        newRow= newRow*row\n",
    "        w[i+2]= newRow\n",
    "        #print(newRow)\n",
    "    return w"
   ]
  },
  {
   "cell_type": "code",
   "execution_count": 3,
   "metadata": {
    "collapsed": true
   },
   "outputs": [],
   "source": [
    "def my_dft(x):\n",
    "    N= len(x)\n",
    "    out= np.dot(trans_mat(N), x)\n",
    "    return out"
   ]
  },
  {
   "cell_type": "code",
   "execution_count": 4,
   "metadata": {},
   "outputs": [
    {
     "data": {
      "text/plain": [
       "array([ 6.+0.j, -1.-1.j,  0.-0.j, -1.+1.j])"
      ]
     },
     "execution_count": 4,
     "metadata": {},
     "output_type": "execute_result"
    }
   ],
   "source": [
    "d= my_dft([1,2,2,1])\n",
    "d"
   ]
  },
  {
   "cell_type": "code",
   "execution_count": 5,
   "metadata": {
    "collapsed": true
   },
   "outputs": [],
   "source": [
    "def my_idft(X):\n",
    "    K=len(X)\n",
    "    out= (1/K)*np.matmul(np.conjugate(trans_mat(K)), X)\n",
    "    return np.absolute(out)"
   ]
  },
  {
   "cell_type": "code",
   "execution_count": 6,
   "metadata": {},
   "outputs": [
    {
     "data": {
      "text/plain": [
       "array([1., 2., 2., 1.])"
      ]
     },
     "execution_count": 6,
     "metadata": {},
     "output_type": "execute_result"
    }
   ],
   "source": [
    "my_idft(d)"
   ]
  },
  {
   "cell_type": "markdown",
   "metadata": {
    "collapsed": true
   },
   "source": [
    "# DCT and IDCT :"
   ]
  },
  {
   "cell_type": "code",
   "execution_count": 7,
   "metadata": {
    "collapsed": true
   },
   "outputs": [],
   "source": [
    "def my_dct(x):\n",
    "    N=len(x)\n",
    "    mat= np.zeros((N,N))\n",
    "    for i in range(N):\n",
    "        for j in range(N):\n",
    "            mat[i][j]= 2*np.cos(np.pi*(2*j+1)*i/(2*N))\n",
    "    out= np.dot(mat, x)\n",
    "    return out"
   ]
  },
  {
   "cell_type": "code",
   "execution_count": 8,
   "metadata": {},
   "outputs": [
    {
     "data": {
      "text/plain": [
       "array([20.        , -6.30864406, -0.        , -0.44834153])"
      ]
     },
     "execution_count": 8,
     "metadata": {},
     "output_type": "execute_result"
    }
   ],
   "source": [
    "x= [1,2,3,4]\n",
    "c=my_dct(x)\n",
    "c"
   ]
  },
  {
   "cell_type": "code",
   "execution_count": 9,
   "metadata": {
    "collapsed": true
   },
   "outputs": [],
   "source": [
    "def my_idct(X):\n",
    "    K= len(X)\n",
    "    #print(K)\n",
    "    mat= np.zeros((K,K), dtype=np.float)\n",
    "    for i in range(K):\n",
    "        for j in range(K):\n",
    "            if(j==0):\n",
    "                mat[i][j]= (1/(2*K))*np.cos(np.pi*j*(2*i+1)/(2*K))\n",
    "            else:\n",
    "                mat[i][j]= (1/(1*K))*np.cos(np.pi*j*(2*i+1)/(2*K))\n",
    "    out= np.dot(mat, X)\n",
    "    return out"
   ]
  },
  {
   "cell_type": "code",
   "execution_count": 10,
   "metadata": {},
   "outputs": [
    {
     "data": {
      "text/plain": [
       "array([1., 2., 3., 4.])"
      ]
     },
     "execution_count": 10,
     "metadata": {},
     "output_type": "execute_result"
    }
   ],
   "source": [
    "my_idct(c)"
   ]
  },
  {
   "cell_type": "markdown",
   "metadata": {
    "collapsed": true
   },
   "source": [
    "# Haar Transform & Inverse :"
   ]
  },
  {
   "cell_type": "code",
   "execution_count": 11,
   "metadata": {
    "collapsed": true
   },
   "outputs": [],
   "source": [
    "def my_haar(x):\n",
    "    v= (int)(np.log2(len(x)))\n",
    "    initial= np.array([[1.0]])\n",
    "    const1= np.array([math.sqrt(0.5),math.sqrt(0.5)])\n",
    "    const2= np.array([math.sqrt(0.5),-math.sqrt(0.5)])\n",
    "    for i in range(1,v+1):\n",
    "        shape= (int)(pow(2,i-1))\n",
    "        upper= np.kron(initial, const1)\n",
    "        lower= np.kron(np.identity(shape), const2)\n",
    "        initial= np.concatenate((upper, lower), axis=0)\n",
    "        #print(initial)\n",
    "    #print(initial)\n",
    "    out= np.dot(initial, x)\n",
    "    return out"
   ]
  },
  {
   "cell_type": "code",
   "execution_count": 12,
   "metadata": {},
   "outputs": [
    {
     "data": {
      "text/plain": [
       "array([ 5.        , -2.        , -0.70710678, -0.70710678])"
      ]
     },
     "execution_count": 12,
     "metadata": {},
     "output_type": "execute_result"
    }
   ],
   "source": [
    "x=[1,2,3,4]\n",
    "h= my_haar(x)\n",
    "h"
   ]
  },
  {
   "cell_type": "code",
   "execution_count": 13,
   "metadata": {
    "collapsed": true
   },
   "outputs": [],
   "source": [
    "def my_ihaar(X):\n",
    "    v= (int)(np.log2(len(X)))\n",
    "    initial= np.array([[1.0]])\n",
    "    const1= np.array([math.sqrt(0.5),math.sqrt(0.5)])\n",
    "    const2= np.array([math.sqrt(0.5),-math.sqrt(0.5)])\n",
    "    for i in range(1,v+1):\n",
    "        shape= (int)(pow(2,i-1))\n",
    "        upper= np.kron(initial, const1)\n",
    "        lower= np.kron(np.identity(shape), const2)\n",
    "        initial= np.concatenate((upper, lower), axis=0)\n",
    "        #print(initial)\n",
    "    N= len(X)\n",
    "    initial= np.transpose(initial)\n",
    "    out= np.dot(initial, X)\n",
    "    return out"
   ]
  },
  {
   "cell_type": "code",
   "execution_count": 14,
   "metadata": {},
   "outputs": [
    {
     "data": {
      "text/plain": [
       "array([1., 2., 3., 4.])"
      ]
     },
     "execution_count": 14,
     "metadata": {},
     "output_type": "execute_result"
    }
   ],
   "source": [
    "my_ihaar(h)"
   ]
  },
  {
   "cell_type": "code",
   "execution_count": null,
   "metadata": {
    "collapsed": true
   },
   "outputs": [],
   "source": []
  },
  {
   "cell_type": "markdown",
   "metadata": {
    "collapsed": true
   },
   "source": [
    "# Energy Compaction"
   ]
  },
  {
   "cell_type": "code",
   "execution_count": 17,
   "metadata": {
    "collapsed": true
   },
   "outputs": [],
   "source": [
    "def loss_dft(x, L):\n",
    "    X_dft= my_dft(x)\n",
    "    N= len(X_dft)\n",
    "    low= int((N-L+1)/2)\n",
    "    high= int((N-1+L)/2)\n",
    "    for i in range(low, high+1):\n",
    "        X_dft[i]= 0\n",
    "    x1= my_idft(X_dft)\n",
    "    val=np.sum(np.square(x-x1))\n",
    "    return val/N"
   ]
  },
  {
   "cell_type": "code",
   "execution_count": 18,
   "metadata": {
    "collapsed": true
   },
   "outputs": [],
   "source": [
    "def loss_dct(x, L):\n",
    "    X_dct= my_dct(x)\n",
    "    N= len(X_dct)\n",
    "    low= (int)((N-L))\n",
    "    high= int((N-1))\n",
    "    for i in range(low, high+1):\n",
    "        X_dct[i]= 0\n",
    "    x1= my_idct(X_dct)\n",
    "    #print(x1)\n",
    "    val=np.sum(np.square(x-x1))\n",
    "    return val/N"
   ]
  },
  {
   "cell_type": "code",
   "execution_count": 19,
   "metadata": {
    "collapsed": true
   },
   "outputs": [],
   "source": [
    "def loss_haar(x, L):\n",
    "    X_haar= my_haar(x)\n",
    "    N= len(X_haar)\n",
    "    low= (int)((N-L))\n",
    "    high= int((N-1))\n",
    "    for i in range(low, high+1):\n",
    "        X_haar[i]= 0\n",
    "    x1= my_ihaar(X_haar)\n",
    "    val=np.sum(np.square(x-x1))\n",
    "    return val/N"
   ]
  },
  {
   "cell_type": "code",
   "execution_count": 18,
   "metadata": {
    "collapsed": true
   },
   "outputs": [],
   "source": [
    "x= np.array(range(256))\n",
    "dct=[]\n",
    "dft=[]\n",
    "haar=[]\n",
    "for i in range(150, 250):\n",
    "    dct.append(loss_dct(x, i))\n",
    "    dft.append(loss_dft(x, i))\n",
    "    haar.append(loss_haar(x,i))\n",
    "\n",
    "dct= np.array(dct)\n",
    "dft= np.array(dft)\n",
    "haar= np.array(haar)"
   ]
  },
  {
   "cell_type": "code",
   "execution_count": 19,
   "metadata": {},
   "outputs": [
    {
     "data": {
      "image/png": "[encoded data removed]",
      "text/plain": [
       "<matplotlib.figure.Figure at 0x1e7064a39b0>"
      ]
     },
     "metadata": {},
     "output_type": "display_data"
    }
   ],
   "source": [
    "plt.plot(range(150,250),dft, 'r', label=\"DFT\")\n",
    "plt.plot(range(150, 250),dct, 'b', label=\"DCT\")\n",
    "plt.plot(range(150, 250),haar, 'g', label= \"Haar\")\n",
    "plt.xlabel(\"Number of Coefficients set to zero\")\n",
    "plt.ylabel(\"Mean square approximation error\")\n",
    "plt.legend()\n",
    "plt.show()"
   ]
  },
  {
   "cell_type": "markdown",
   "metadata": {
    "collapsed": true
   },
   "source": [
    "# Part 2 of Assignment :"
   ]
  },
  {
   "cell_type": "markdown",
   "metadata": {},
   "source": [
    "# Compression "
   ]
  },
  {
   "cell_type": "code",
   "execution_count": 97,
   "metadata": {
    "collapsed": true
   },
   "outputs": [],
   "source": [
    "from scipy.io import wavfile\n",
    "from scipy.fftpack import fft\n",
    "from scipy.fftpack import ifft\n",
    "import pywt\n",
    "from scipy.fftpack import dct\n",
    "from scipy.fftpack import idct"
   ]
  },
  {
   "cell_type": "code",
   "execution_count": 88,
   "metadata": {
    "collapsed": true
   },
   "outputs": [],
   "source": [
    "def loss_dft2(x, L):\n",
    "    N= len(x)\n",
    "    X_dft= np.fft.fft(x, norm= 'ortho')\n",
    "    low= int((N-L+1)/2)\n",
    "    high= int((N-1+L)/2)\n",
    "    for i in range(low, high+1):\n",
    "        X_dft[i]= 0\n",
    "    x1= np.fft.ifft(X_dft, norm= 'ortho')\n",
    "    #error resolved by taking only real part of ifft and wrong for taking absolute value of ifft\n",
    "    x1= np.real(x1)\n",
    "    x2= np.subtract(x,x1)\n",
    "    x4= np.square(x2)\n",
    "    val=np.sum(x4)/N\n",
    "    return val"
   ]
  },
  {
   "cell_type": "code",
   "execution_count": 90,
   "metadata": {},
   "outputs": [
    {
     "data": {
      "text/plain": [
       "array([ 1.,  3.,  5.,  6.,  9., 11., 13., 15.])"
      ]
     },
     "execution_count": 90,
     "metadata": {},
     "output_type": "execute_result"
    }
   ],
   "source": [
    "y= fft(x)\n",
    "np.absolute(ifft(y))"
   ]
  },
  {
   "cell_type": "code",
   "execution_count": 89,
   "metadata": {},
   "outputs": [
    {
     "data": {
      "text/plain": [
       "7.1712707505076185"
      ]
     },
     "execution_count": 89,
     "metadata": {},
     "output_type": "execute_result"
    }
   ],
   "source": [
    "x= [1,3,5,6,9,11,13,15]\n",
    "loss_dft2(x, 5)"
   ]
  },
  {
   "cell_type": "code",
   "execution_count": 19,
   "metadata": {
    "collapsed": true
   },
   "outputs": [],
   "source": [
    "def loss_dct2(x, L):\n",
    "    X_dct= dct(x, norm='ortho')\n",
    "    N= len(X_dct)\n",
    "    low= int((N-L))\n",
    "    high= int((N-1))\n",
    "    for i in range(low, high+1):\n",
    "        X_dct[i]= 0\n",
    "    x1= idct(X_dct, norm='ortho')\n",
    "    #print(x1)\n",
    "    val=np.sum(np.square(np.subtract(x,x1)))\n",
    "    return val/N"
   ]
  },
  {
   "cell_type": "code",
   "execution_count": 20,
   "metadata": {},
   "outputs": [
    {
     "name": "stdout",
     "output_type": "stream",
     "text": [
      "[ 1.  3.  5.  6.  9. 11. 13. 15.]\n"
     ]
    }
   ],
   "source": [
    "x= [1,3,5,6,9,11,13,15]\n",
    "y= dct(x, norm='ortho')\n",
    "#print(y)\n",
    "print(idct(y, norm='ortho'))\n",
    "#loss_dct2(x, 6)"
   ]
  },
  {
   "cell_type": "code",
   "execution_count": null,
   "metadata": {
    "collapsed": true
   },
   "outputs": [],
   "source": []
  },
  {
   "cell_type": "code",
   "execution_count": 106,
   "metadata": {
    "collapsed": true
   },
   "outputs": [],
   "source": [
    "def loss_haar2(x, L):\n",
    "    (cA, cB)= pywt.dwt(x, 'db1')\n",
    "    N= len(cA)\n",
    "    #print(cA)\n",
    "    #print(cB)\n",
    "    low= (int)((N-L))\n",
    "    high= int((N-1))\n",
    "    for i in range(low, high+1):\n",
    "        cA[i]= 0\n",
    "        cB[i]=0\n",
    "    x1= pywt.idwt(cA, cB, 'db1')\n",
    "    val=np.sum(np.square(x-x1))/N\n",
    "    return val"
   ]
  },
  {
   "cell_type": "code",
   "execution_count": 107,
   "metadata": {},
   "outputs": [
    {
     "name": "stdout",
     "output_type": "stream",
     "text": [
      "[ 2.82842712  7.77817459 14.14213562 19.79898987]\n",
      "[-1.41421356 -0.70710678 -1.41421356 -1.41421356]\n"
     ]
    },
    {
     "data": {
      "text/plain": [
       "164.25"
      ]
     },
     "execution_count": 107,
     "metadata": {},
     "output_type": "execute_result"
    }
   ],
   "source": [
    "x= [1,3,5,6,9,11,13,15]\n",
    "loss_haar2(x, 3)"
   ]
  },
  {
   "cell_type": "code",
   "execution_count": 36,
   "metadata": {},
   "outputs": [
    {
     "data": {
      "text/plain": [
       "44100"
      ]
     },
     "execution_count": 36,
     "metadata": {},
     "output_type": "execute_result"
    }
   ],
   "source": [
    "fs, data = wavfile.read('music.wav')\n",
    "fs"
   ]
  },
  {
   "cell_type": "code",
   "execution_count": 37,
   "metadata": {},
   "outputs": [
    {
     "data": {
      "text/plain": [
       "(1208718, 2)"
      ]
     },
     "execution_count": 37,
     "metadata": {},
     "output_type": "execute_result"
    }
   ],
   "source": [
    "data.shape"
   ]
  },
  {
   "cell_type": "code",
   "execution_count": 91,
   "metadata": {
    "collapsed": true
   },
   "outputs": [],
   "source": [
    "x= data[:32768,1]\n",
    "x= np.array(x, dtype=np.float64)"
   ]
  },
  {
   "cell_type": "code",
   "execution_count": null,
   "metadata": {
    "collapsed": true
   },
   "outputs": [],
   "source": []
  },
  {
   "cell_type": "code",
   "execution_count": 92,
   "metadata": {},
   "outputs": [],
   "source": [
    "dctl=[]\n",
    "dftl=[]\n",
    "\n",
    "for i in range(10000, 32758, 100):\n",
    "    dctl.append(loss_dct2(x, i))\n",
    "    dftl.append(loss_dft2(x, i))\n",
    "    #haar.append(loss_haar(x,i))\n",
    "\n",
    "dctl= np.array(dctl)\n",
    "dftl= np.array(dftl)\n",
    "#haar= np.array(haar)"
   ]
  },
  {
   "cell_type": "code",
   "execution_count": 154,
   "metadata": {},
   "outputs": [
    {
     "data": {
      "text/plain": [
       "array([   0.        ,  374.23162026,  635.29659292, 1029.8725667 ,\n",
       "       2062.87931934, 2591.74212845, 2752.92858978, 2941.97970646,\n",
       "       3278.29441658, 3213.55003569, 3169.96868279, 3337.28060881,\n",
       "       3574.66513373, 3658.01338132, 3830.63088879, 4439.79420089,\n",
       "       4727.54865971, 4700.39912027, 4836.39302708, 5015.63583031])"
      ]
     },
     "execution_count": 154,
     "metadata": {},
     "output_type": "execute_result"
    }
   ],
   "source": [
    "#dftl= max(dftl)- dftl\n",
    "#y[:20]"
   ]
  },
  {
   "cell_type": "code",
   "execution_count": 27,
   "metadata": {
    "collapsed": true
   },
   "outputs": [],
   "source": [
    "# for 8 bits i.e. b=8, b is bit length of non zero variable\n",
    "N= 32758\n",
    "bits_per_sample= [8*(N-i)/N for i in range(10000, 32758, 100)]\n"
   ]
  },
  {
   "cell_type": "code",
   "execution_count": 93,
   "metadata": {},
   "outputs": [
    {
     "data": {
      "image/png": "[encoded data removed]",
      "text/plain": [
       "<matplotlib.figure.Figure at 0x1855a1c66d8>"
      ]
     },
     "metadata": {},
     "output_type": "display_data"
    }
   ],
   "source": [
    "plt.plot(bits_per_sample, dftl, 'r', label=\"DFT\")\n",
    "plt.plot(bits_per_sample, dctl, 'b', label=\"DCT\")\n",
    "#plt.plot(range(150, 250),haar, 'g', label= \"Haar\")\n",
    "plt.xlabel(\"Number of Coefficients set to zero\")\n",
    "plt.ylabel(\"Mean square approximation error\")\n",
    "plt.legend()\n",
    "plt.show()"
   ]
  },
  {
   "cell_type": "code",
   "execution_count": 94,
   "metadata": {},
   "outputs": [
    {
     "data": {
      "image/png": "[encoded data removed]",
      "text/plain": [
       "<matplotlib.figure.Figure at 0x1855a1aeb00>"
      ]
     },
     "metadata": {},
     "output_type": "display_data"
    }
   ],
   "source": [
    "plt.plot(range(10000, 32758, 100), dftl, 'r', label=\"DFT\")\n",
    "plt.show()"
   ]
  },
  {
   "cell_type": "code",
   "execution_count": 87,
   "metadata": {},
   "outputs": [
    {
     "data": {
      "image/png": "[encoded data removed]",
      "text/plain": [
       "<matplotlib.figure.Figure at 0x1855a101630>"
      ]
     },
     "metadata": {},
     "output_type": "display_data"
    }
   ],
   "source": [
    "plt.plot(range(10000, 32758, 100), dctl, 'r', label=\"DCT\")\n",
    "plt.show()"
   ]
  },
  {
   "cell_type": "code",
   "execution_count": null,
   "metadata": {
    "collapsed": true
   },
   "outputs": [],
   "source": []
  }
 ],
 "metadata": {
  "kernelspec": {
   "display_name": "Python 3",
   "language": "python",
   "name": "python3"
  },
  "language_info": {
   "codemirror_mode": {
    "name": "ipython",
    "version": 3
   },
   "file_extension": ".py",
   "mimetype": "text/x-python",
   "name": "python",
   "nbconvert_exporter": "python",
   "pygments_lexer": "ipython3",
   "version": "3.6.3"
  }
 },
 "nbformat": 4,
 "nbformat_minor": 2
}
