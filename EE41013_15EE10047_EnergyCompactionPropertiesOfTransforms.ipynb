{
 "cells": [
  {
   "cell_type": "code",
   "execution_count": 1,
   "metadata": {
    "collapsed": true
   },
   "outputs": [],
   "source": [
    "import numpy as np\n",
    "import matplotlib.pyplot as plt\n",
    "import math\n",
    "np.set_printoptions(suppress=True) #prevent numpy exponential"
   ]
  },
  {
   "cell_type": "markdown",
   "metadata": {},
   "source": [
    "# DFT and IDFT :"
   ]
  },
  {
   "cell_type": "code",
   "execution_count": 2,
   "metadata": {
    "collapsed": true
   },
   "outputs": [],
   "source": [
    "def trans_mat(N):\n",
    "    w=np.ones((N,N), dtype= np.complex64)\n",
    "    wn= np.exp(-1j*2*np.pi/N)\n",
    "    row = []\n",
    "    val=1\n",
    "    for i in range(N):\n",
    "        row.append(val)\n",
    "        val= val*wn\n",
    "    row= np.array(row)\n",
    "    #print(row)\n",
    "    w[1]= row\n",
    "    newRow= row\n",
    "    for i in range(N-2):\n",
    "        newRow= newRow*row\n",
    "        w[i+2]= newRow\n",
    "        #print(newRow)\n",
    "    return w"
   ]
  },
  {
   "cell_type": "code",
   "execution_count": 3,
   "metadata": {
    "collapsed": true
   },
   "outputs": [],
   "source": [
    "def my_dft(x):\n",
    "    N= len(x)\n",
    "    out= np.dot(trans_mat(N), x)\n",
    "    return out"
   ]
  },
  {
   "cell_type": "code",
   "execution_count": 4,
   "metadata": {},
   "outputs": [
    {
     "data": {
      "text/plain": [
       "array([ 6.+0.j, -1.-1.j,  0.-0.j, -1.+1.j])"
      ]
     },
     "execution_count": 4,
     "metadata": {},
     "output_type": "execute_result"
    }
   ],
   "source": [
    "d= my_dft([1,2,2,1])\n",
    "d"
   ]
  },
  {
   "cell_type": "code",
   "execution_count": 21,
   "metadata": {
    "collapsed": true
   },
   "outputs": [],
   "source": [
    "def my_idft(X):\n",
    "    K=len(X)\n",
    "    out= (1/K)*np.matmul(np.conjugate(trans_mat(K)), X)\n",
    "    return np.absolute(out)"
   ]
  },
  {
   "cell_type": "code",
   "execution_count": 22,
   "metadata": {},
   "outputs": [
    {
     "data": {
      "text/plain": [
       "array([1., 2., 2., 1.])"
      ]
     },
     "execution_count": 22,
     "metadata": {},
     "output_type": "execute_result"
    }
   ],
   "source": [
    "my_idft(d)"
   ]
  },
  {
   "cell_type": "markdown",
   "metadata": {
    "collapsed": true
   },
   "source": [
    "# DCT and IDCT :"
   ]
  },
  {
   "cell_type": "code",
   "execution_count": 7,
   "metadata": {
    "collapsed": true
   },
   "outputs": [],
   "source": [
    "def my_dct(x):\n",
    "    N=len(x)\n",
    "    mat= np.zeros((N,N))\n",
    "    for i in range(N):\n",
    "        for j in range(N):\n",
    "            mat[i][j]= 2*np.cos(np.pi*(2*j+1)*i/(2*N))\n",
    "    out= np.dot(mat, x)\n",
    "    return out"
   ]
  },
  {
   "cell_type": "code",
   "execution_count": 8,
   "metadata": {},
   "outputs": [
    {
     "data": {
      "text/plain": [
       "array([20.        , -6.30864406, -0.        , -0.44834153])"
      ]
     },
     "execution_count": 8,
     "metadata": {},
     "output_type": "execute_result"
    }
   ],
   "source": [
    "x= [1,2,3,4]\n",
    "c=my_dct(x)\n",
    "c"
   ]
  },
  {
   "cell_type": "code",
   "execution_count": 9,
   "metadata": {
    "collapsed": true
   },
   "outputs": [],
   "source": [
    "def my_idct(X):\n",
    "    K= len(X)\n",
    "    #print(K)\n",
    "    mat= np.zeros((K,K), dtype=np.float)\n",
    "    for i in range(K):\n",
    "        for j in range(K):\n",
    "            if(j==0):\n",
    "                mat[i][j]= (1/(2*K))*np.cos(np.pi*j*(2*i+1)/(2*K))\n",
    "            else:\n",
    "                mat[i][j]= (1/(1*K))*np.cos(np.pi*j*(2*i+1)/(2*K))\n",
    "    out= np.dot(mat, X)\n",
    "    return out"
   ]
  },
  {
   "cell_type": "code",
   "execution_count": 10,
   "metadata": {},
   "outputs": [
    {
     "data": {
      "text/plain": [
       "array([1., 2., 3., 4.])"
      ]
     },
     "execution_count": 10,
     "metadata": {},
     "output_type": "execute_result"
    }
   ],
   "source": [
    "my_idct(c)"
   ]
  },
  {
   "cell_type": "markdown",
   "metadata": {
    "collapsed": true
   },
   "source": [
    "# Haar Transform & Inverse :"
   ]
  },
  {
   "cell_type": "code",
   "execution_count": 11,
   "metadata": {
    "collapsed": true
   },
   "outputs": [],
   "source": [
    "def my_haar(x):\n",
    "    v= (int)(np.log2(len(x)))\n",
    "    initial= np.array([[1.0]])\n",
    "    const1= np.array([math.sqrt(0.5),math.sqrt(0.5)])\n",
    "    const2= np.array([math.sqrt(0.5),-math.sqrt(0.5)])\n",
    "    for i in range(1,v+1):\n",
    "        shape= (int)(pow(2,i-1))\n",
    "        upper= np.kron(initial, const1)\n",
    "        lower= np.kron(np.identity(shape), const2)\n",
    "        initial= np.concatenate((upper, lower), axis=0)\n",
    "        #print(initial)\n",
    "    #print(initial)\n",
    "    out= np.dot(initial, x)\n",
    "    return out"
   ]
  },
  {
   "cell_type": "code",
   "execution_count": 12,
   "metadata": {},
   "outputs": [
    {
     "data": {
      "text/plain": [
       "array([ 5.        , -2.        , -0.70710678, -0.70710678])"
      ]
     },
     "execution_count": 12,
     "metadata": {},
     "output_type": "execute_result"
    }
   ],
   "source": [
    "h= my_haar(x)\n",
    "h"
   ]
  },
  {
   "cell_type": "code",
   "execution_count": 13,
   "metadata": {
    "collapsed": true
   },
   "outputs": [],
   "source": [
    "def my_ihaar(X):\n",
    "    v= (int)(np.log2(len(X)))\n",
    "    initial= np.array([[1.0]])\n",
    "    const1= np.array([math.sqrt(0.5),math.sqrt(0.5)])\n",
    "    const2= np.array([math.sqrt(0.5),-math.sqrt(0.5)])\n",
    "    for i in range(1,v+1):\n",
    "        shape= (int)(pow(2,i-1))\n",
    "        upper= np.kron(initial, const1)\n",
    "        lower= np.kron(np.identity(shape), const2)\n",
    "        initial= np.concatenate((upper, lower), axis=0)\n",
    "        #print(initial)\n",
    "    N= len(X)\n",
    "    initial= np.transpose(initial)\n",
    "    out= np.dot(initial, X)\n",
    "    return out"
   ]
  },
  {
   "cell_type": "code",
   "execution_count": 14,
   "metadata": {},
   "outputs": [
    {
     "data": {
      "text/plain": [
       "array([1., 2., 3., 4.])"
      ]
     },
     "execution_count": 14,
     "metadata": {},
     "output_type": "execute_result"
    }
   ],
   "source": [
    "my_ihaar(h)"
   ]
  },
  {
   "cell_type": "code",
   "execution_count": null,
   "metadata": {
    "collapsed": true
   },
   "outputs": [],
   "source": []
  },
  {
   "cell_type": "markdown",
   "metadata": {
    "collapsed": true
   },
   "source": [
    "# Energy Compaction"
   ]
  },
  {
   "cell_type": "code",
   "execution_count": 24,
   "metadata": {
    "collapsed": true
   },
   "outputs": [],
   "source": [
    "def loss_dft(x, L):\n",
    "    X_dft= my_dft(x)\n",
    "    N= len(X_dft)\n",
    "    low= int((N-L+1)/2)\n",
    "    high= int((N-1+L)/2)\n",
    "    for i in range(low, high+1):\n",
    "        X_dft[i]= 0\n",
    "    x1= my_idft(X_dft)\n",
    "    val=np.sum(np.square(x-x1))\n",
    "    return val/N"
   ]
  },
  {
   "cell_type": "code",
   "execution_count": 25,
   "metadata": {
    "collapsed": true
   },
   "outputs": [],
   "source": [
    "def loss_dct(x, L):\n",
    "    X_dct= my_dct(x)\n",
    "    N= len(X_dct)\n",
    "    low= (int)((N-L))\n",
    "    high= int((N-1))\n",
    "    for i in range(low, high+1):\n",
    "        X_dct[i]= 0\n",
    "    x1= my_idct(X_dct)\n",
    "    #print(x1)\n",
    "    val=np.sum(np.square(x-x1))\n",
    "    return val/N"
   ]
  },
  {
   "cell_type": "code",
   "execution_count": 26,
   "metadata": {
    "collapsed": true
   },
   "outputs": [],
   "source": [
    "def loss_haar(x, L):\n",
    "    X_haar= my_haar(x)\n",
    "    N= len(X_haar)\n",
    "    low= (int)((N-L))\n",
    "    high= int((N-1))\n",
    "    for i in range(low, high+1):\n",
    "        X_haar[i]= 0\n",
    "    x1= my_ihaar(X_haar)\n",
    "    val=np.sum(np.square(x-x1))\n",
    "    return val/N"
   ]
  },
  {
   "cell_type": "code",
   "execution_count": 28,
   "metadata": {},
   "outputs": [],
   "source": [
    "x= np.array(range(256))\n",
    "dct=[]\n",
    "dft=[]\n",
    "haar=[]\n",
    "for i in range(150, 250):\n",
    "    dct.append(loss_dct(x, i))\n",
    "    dft.append(loss_dft(x, i))\n",
    "    haar.append(loss_haar(x,i))\n",
    "\n",
    "dct= np.array(dct)\n",
    "dft= np.array(dft)\n",
    "haar= np.array(haar)"
   ]
  },
  {
   "cell_type": "code",
   "execution_count": 33,
   "metadata": {},
   "outputs": [
    {
     "data": {
      "image/png": "[encoded data removed]",
      "text/plain": [
       "<matplotlib.figure.Figure at 0x26546899080>"
      ]
     },
     "metadata": {},
     "output_type": "display_data"
    }
   ],
   "source": [
    "plt.plot(range(150,250),dft, 'r', label=\"DFT\")\n",
    "plt.plot(range(150, 250),dct, 'b', label=\"DCT\")\n",
    "plt.plot(range(150, 250),haar, 'g', label= \"Haar\")\n",
    "plt.xlabel(\"Number of Coefficients set to zero\")\n",
    "plt.ylabel(\"Mean square approximation error\")\n",
    "plt.legend()\n",
    "plt.show()"
   ]
  },
  {
   "cell_type": "code",
   "execution_count": null,
   "metadata": {
    "collapsed": true
   },
   "outputs": [],
   "source": []
  }
 ],
 "metadata": {
  "kernelspec": {
   "display_name": "Python 3",
   "language": "python",
   "name": "python3"
  },
  "language_info": {
   "codemirror_mode": {
    "name": "ipython",
    "version": 3
   },
   "file_extension": ".py",
   "mimetype": "text/x-python",
   "name": "python",
   "nbconvert_exporter": "python",
   "pygments_lexer": "ipython3",
   "version": "3.6.3"
  }
 },
 "nbformat": 4,
 "nbformat_minor": 2
}
